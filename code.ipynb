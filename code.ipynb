# python file 

import numpy as np 
import pandas as pd
